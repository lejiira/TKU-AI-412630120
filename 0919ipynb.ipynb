{
  "nbformat": 4,
  "nbformat_minor": 0,
  "metadata": {
    "colab": {
      "provenance": [],
      "authorship_tag": "ABX9TyO6TMyapQ7oxxKFIIOSFtGS",
      "include_colab_link": true
    },
    "kernelspec": {
      "name": "python3",
      "display_name": "Python 3"
    },
    "language_info": {
      "name": "python"
    }
  },
  "cells": [
    {
      "cell_type": "markdown",
      "metadata": {
        "id": "view-in-github",
        "colab_type": "text"
      },
      "source": [
        "<a href=\"https://colab.research.google.com/github/lejiira/TKU-AI-412630120/blob/main/0919ipynb.ipynb\" target=\"_parent\"><img src=\"https://colab.research.google.com/assets/colab-badge.svg\" alt=\"Open In Colab\"/></a>"
      ]
    },
    {
      "cell_type": "code",
      "execution_count": 2,
      "metadata": {
        "colab": {
          "base_uri": "https://localhost:8080/"
        },
        "id": "cJYLWErF3KCC",
        "outputId": "2caa193a-013e-438f-af48-b4eecaa8db64"
      },
      "outputs": [
        {
          "output_type": "stream",
          "name": "stdout",
          "text": [
            "hi\n"
          ]
        }
      ],
      "source": [
        "print(\"hi\")"
      ]
    },
    {
      "cell_type": "code",
      "source": [
        "a=1\n",
        "print(a)"
      ],
      "metadata": {
        "colab": {
          "base_uri": "https://localhost:8080/"
        },
        "id": "8vH_Jkf_9HiJ",
        "outputId": "24be005b-a3e8-4046-eba6-ba13915b4903"
      },
      "execution_count": 3,
      "outputs": [
        {
          "output_type": "stream",
          "name": "stdout",
          "text": [
            "1\n"
          ]
        }
      ]
    },
    {
      "cell_type": "code",
      "source": [
        "a"
      ],
      "metadata": {
        "colab": {
          "base_uri": "https://localhost:8080/"
        },
        "id": "k3ZtZgIR9Mag",
        "outputId": "ffaca40e-c098-49ad-fcc8-283cd4cd68de"
      },
      "execution_count": 4,
      "outputs": [
        {
          "output_type": "execute_result",
          "data": {
            "text/plain": [
              "1"
            ]
          },
          "metadata": {},
          "execution_count": 4
        }
      ]
    },
    {
      "cell_type": "code",
      "source": [
        "popo=\"happy girl\"\n",
        "popo"
      ],
      "metadata": {
        "colab": {
          "base_uri": "https://localhost:8080/",
          "height": 35
        },
        "id": "6zInnsz29hLG",
        "outputId": "01f22a7b-5144-45d9-c5bf-98a40ed9f926"
      },
      "execution_count": 5,
      "outputs": [
        {
          "output_type": "execute_result",
          "data": {
            "text/plain": [
              "'happy girl'"
            ],
            "application/vnd.google.colaboratory.intrinsic+json": {
              "type": "string"
            }
          },
          "metadata": {},
          "execution_count": 5
        }
      ]
    },
    {
      "cell_type": "code",
      "source": [
        "print(type(55))"
      ],
      "metadata": {
        "colab": {
          "base_uri": "https://localhost:8080/"
        },
        "id": "8J_axJSc99jm",
        "outputId": "3d15d3bc-cc52-436b-ac3c-272c37f3cf75"
      },
      "execution_count": 6,
      "outputs": [
        {
          "output_type": "stream",
          "name": "stdout",
          "text": [
            "<class 'int'>\n"
          ]
        }
      ]
    },
    {
      "cell_type": "code",
      "source": [
        "print(type(16+1.3))"
      ],
      "metadata": {
        "colab": {
          "base_uri": "https://localhost:8080/"
        },
        "id": "8baia0CeA24O",
        "outputId": "13094b41-258a-42e7-b6dd-bd8de68cbfb3"
      },
      "execution_count": 8,
      "outputs": [
        {
          "output_type": "stream",
          "name": "stdout",
          "text": [
            "<class 'float'>\n"
          ]
        }
      ]
    },
    {
      "cell_type": "code",
      "source": [
        "a=1\n",
        "b=2\n",
        "c=3\n",
        "print(a,b,c)\n",
        "print({a,b,c})\n",
        "print(a,{b,c})"
      ],
      "metadata": {
        "colab": {
          "base_uri": "https://localhost:8080/"
        },
        "id": "lNMPjRkPBBHG",
        "outputId": "7b817de4-442e-43f3-dc48-c5d1f9c993d2"
      },
      "execution_count": 9,
      "outputs": [
        {
          "output_type": "stream",
          "name": "stdout",
          "text": [
            "1 2 3\n",
            "{1, 2, 3}\n",
            "1 {2, 3}\n"
          ]
        }
      ]
    },
    {
      "cell_type": "code",
      "source": [
        "print(\"hey,hi,hello\")\n",
        "print(\"hey,hi,hello\",sep=\"-\")\n",
        "print(\"hey,hi,hello\",sep='\\t')\n",
        "print(\"hey,hi,hello\",sep=\"\\n\")"
      ],
      "metadata": {
        "colab": {
          "base_uri": "https://localhost:8080/"
        },
        "id": "POJze0LQB_kX",
        "outputId": "8a321458-9d90-4fae-ae1e-b9cbf16b0507"
      },
      "execution_count": 10,
      "outputs": [
        {
          "output_type": "stream",
          "name": "stdout",
          "text": [
            "hey,hi,hello\n",
            "hey,hi,hello\n",
            "hey,hi,hello\n",
            "hey,hi,hello\n"
          ]
        }
      ]
    },
    {
      "cell_type": "code",
      "source": [
        "print('hey','hi','hello')\n",
        "print('hey','hi','hello',sep=\"-\")\n",
        "print('hey','hi','hello',sep='\\t')\n",
        "print('hey','hi','hello',sep=\"\\n\")"
      ],
      "metadata": {
        "colab": {
          "base_uri": "https://localhost:8080/"
        },
        "id": "jOuFnlA-DF7H",
        "outputId": "d8338899-0fc6-49f7-9627-1eb5fde1a68a"
      },
      "execution_count": 20,
      "outputs": [
        {
          "output_type": "stream",
          "name": "stdout",
          "text": [
            "hey hi hello\n",
            "hey-hi-hello\n",
            "hey\thi\thello\n",
            "hey\n",
            "hi\n",
            "hello\n"
          ]
        }
      ]
    },
    {
      "cell_type": "code",
      "source": [
        "print(\"早安\")\n",
        "print('同學們')\n",
        "print('打起精神來')\n",
        "print(\"早安\",'同學們','打起精神來',sep='\\n')"
      ],
      "metadata": {
        "colab": {
          "base_uri": "https://localhost:8080/"
        },
        "id": "8lZ5LUXqDqho",
        "outputId": "e29be631-34f1-439a-c5c8-a7ce67fd347e"
      },
      "execution_count": 14,
      "outputs": [
        {
          "output_type": "stream",
          "name": "stdout",
          "text": [
            "早安\n",
            "同學們\n",
            "打起精神來\n",
            "早安\n",
            "同學們\n",
            "打起精神來\n"
          ]
        }
      ]
    },
    {
      "cell_type": "code",
      "source": [
        "print(\"早安\",'同學們','打起精神來')\n",
        "print(\"早安\",'同學們','打起精神來',sep='\\n')"
      ],
      "metadata": {
        "colab": {
          "base_uri": "https://localhost:8080/"
        },
        "id": "dcSJJeh4Ezhv",
        "outputId": "441a1089-87c0-4838-a760-5e856c59e9ed"
      },
      "execution_count": 15,
      "outputs": [
        {
          "output_type": "stream",
          "name": "stdout",
          "text": [
            "早安 同學們 打起精神來\n",
            "早安\n",
            "同學們\n",
            "打起精神來\n"
          ]
        }
      ]
    },
    {
      "cell_type": "code",
      "source": [
        "print(\"早安\",\n",
        "   '同學們',\n",
        "   '打起精神來')\n",
        "print(\"早安\",'同學們','打起精神來',sep='\\n')"
      ],
      "metadata": {
        "colab": {
          "base_uri": "https://localhost:8080/"
        },
        "id": "oz_47iReFJVP",
        "outputId": "ec8e6e11-d41e-4585-9217-126c1df58db8"
      },
      "execution_count": 16,
      "outputs": [
        {
          "output_type": "stream",
          "name": "stdout",
          "text": [
            "早安 同學們 打起精神來\n",
            "早安\n",
            "同學們\n",
            "打起精神來\n"
          ]
        }
      ]
    },
    {
      "cell_type": "code",
      "source": [
        "print(1230)\n",
        "print(4560)"
      ],
      "metadata": {
        "colab": {
          "base_uri": "https://localhost:8080/"
        },
        "id": "ThzVHfK3FU9d",
        "outputId": "c84bd5d0-1609-4eff-9f3f-a657ae3c04e2"
      },
      "execution_count": 17,
      "outputs": [
        {
          "output_type": "stream",
          "name": "stdout",
          "text": [
            "1230\n",
            "4560\n"
          ]
        }
      ]
    },
    {
      "cell_type": "code",
      "source": [
        "print(1230,end=\",\")\n",
        "print(4560)"
      ],
      "metadata": {
        "colab": {
          "base_uri": "https://localhost:8080/"
        },
        "id": "p3IdU5ALFyPd",
        "outputId": "7d6d1b9e-a0cd-478f-b420-59886e5d9fd0"
      },
      "execution_count": 18,
      "outputs": [
        {
          "output_type": "stream",
          "name": "stdout",
          "text": [
            "1230,4560\n"
          ]
        }
      ]
    },
    {
      "cell_type": "code",
      "source": [
        "print(1230,end='')\n",
        "print(4560)"
      ],
      "metadata": {
        "colab": {
          "base_uri": "https://localhost:8080/"
        },
        "id": "zq0VgsmOF7zV",
        "outputId": "99ca6ca1-cd2e-411d-8249-ac8850e14636"
      },
      "execution_count": 19,
      "outputs": [
        {
          "output_type": "stream",
          "name": "stdout",
          "text": [
            "12304560\n"
          ]
        }
      ]
    },
    {
      "cell_type": "code",
      "source": [],
      "metadata": {
        "id": "R-bx9GDjGEDe"
      },
      "execution_count": null,
      "outputs": []
    }
  ]
}